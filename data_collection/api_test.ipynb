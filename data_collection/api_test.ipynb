{
 "cells": [
  {
   "cell_type": "code",
   "execution_count": 1,
   "metadata": {
    "collapsed": true,
    "pycharm": {
     "is_executing": false,
     "name": "#%%\n"
    }
   },
   "outputs": [
    {
     "name": "stdout",
     "text": [
      "{'referenceId': 346136302, 'values': {'uniqueWeaponKills': {'basic': {'value': 6.0, 'displayValue': '6'}}, 'uniqueWeaponPrecisionKills': {'basic': {'value': 0.0, 'displayValue': '0'}}, 'uniqueWeaponKillsPrecisionKills': {'basic': {'value': 0.0, 'displayValue': '0%'}}}}\n{'referenceId': 2429822977, 'values': {'uniqueWeaponKills': {'basic': {'value': 4.0, 'displayValue': '4'}}, 'uniqueWeaponPrecisionKills': {'basic': {'value': 2.0, 'displayValue': '2'}}, 'uniqueWeaponKillsPrecisionKills': {'basic': {'value': 0.5, 'displayValue': '50%'}}}}\n{'referenceId': 195440257, 'values': {'uniqueWeaponKills': {'basic': {'value': 1.0, 'displayValue': '1'}}, 'uniqueWeaponPrecisionKills': {'basic': {'value': 0.0, 'displayValue': '0'}}, 'uniqueWeaponKillsPrecisionKills': {'basic': {'value': 0.0, 'displayValue': '0%'}}}}\n  display_name        membership_id  class score kills deaths assists  \\\n0     Seamusin  4611686018428477438  Titan    36    15      9       5   \n\n  avg_score_per_life opponents_defeated efficiency      kdr      kda standing  \\\n0                3.6                 20    2.22222  1.66667  1.94444        0   \n\n  team team_score  \n0   17         93  \n"
     ],
     "output_type": "stream"
    }
   ],
   "source": [
    "import data_collection.bungie_api as bng\n",
    "import requests\n",
    "\n",
    "test_acct = bng.DestinyAccount('Seamusin')\n",
    "\n",
    "test_matches = bng.get_comp_match_ids(test_acct)\n",
    "\n",
    "#print(test_matches)\n",
    "\n",
    "#print(bng.get_destiny_manifest())\n",
    "\n",
    "HEADERS = {\"X-API-Key\": '3ac88e4a357e47089618de29c972fbab'}\n",
    "\n",
    "default_url = \"https://bungie.net/Platform\"\n",
    "\n",
    "game_id = test_matches[0]\n",
    "\n",
    "game1_stats = bng.get_game_stats(game_id, test_acct)\n",
    "\n",
    "'''\n",
    "pgcr_path = \"/Destiny2/Stats/PostGameCarnageReport/\" + game_id\n",
    "r = requests.get(default_url + pgcr_path, headers=HEADERS)\n",
    "pgcr_info = r.json()\n",
    "\n",
    "pgcr_entries = pgcr_info['Response']['entries']\n",
    "\n",
    "player_data_list = []\n",
    "for player in pgcr_entries:\n",
    "    player_data_list.append(player)\n",
    "\n",
    "player_1_info = player_data_list[0]\n",
    "test_weapons = player_1_info['extended']['weapons']\n",
    "\n",
    "print(test_weapons)\n",
    "'''\n",
    "print(game1_stats)"
   ]
  },
  {
   "cell_type": "code",
   "execution_count": 4,
   "outputs": [],
   "source": [
    "\n"
   ],
   "metadata": {
    "collapsed": false,
    "pycharm": {
     "name": "#%%\n",
     "is_executing": false
    }
   }
  }
 ],
 "metadata": {
  "language_info": {
   "codemirror_mode": {
    "name": "ipython",
    "version": 2
   },
   "file_extension": ".py",
   "mimetype": "text/x-python",
   "name": "python",
   "nbconvert_exporter": "python",
   "pygments_lexer": "ipython2",
   "version": "2.7.6"
  },
  "kernelspec": {
   "name": "python3",
   "language": "python",
   "display_name": "Python 3"
  },
  "pycharm": {
   "stem_cell": {
    "cell_type": "raw",
    "source": [],
    "metadata": {
     "collapsed": false
    }
   }
  }
 },
 "nbformat": 4,
 "nbformat_minor": 0
}