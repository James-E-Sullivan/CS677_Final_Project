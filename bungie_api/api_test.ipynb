{
 "cells": [
  {
   "cell_type": "code",
   "execution_count": 6,
   "metadata": {
    "collapsed": true,
    "pycharm": {
     "is_executing": false,
     "name": "#%%\n"
    }
   },
   "outputs": [
    {
     "name": "stdout",
     "text": [
      "[{'referenceId': 2957367743, 'values': {'uniqueWeaponKills': {'basic': {'value': 11.0, 'displayValue': '11'}}, 'uniqueWeaponPrecisionKills': {'basic': {'value': 0.0, 'displayValue': '0'}}, 'uniqueWeaponKillsPrecisionKills': {'basic': {'value': 0.0, 'displayValue': '0%'}}}}, {'referenceId': 4077196130, 'values': {'uniqueWeaponKills': {'basic': {'value': 1.0, 'displayValue': '1'}}, 'uniqueWeaponPrecisionKills': {'basic': {'value': 0.0, 'displayValue': '0'}}, 'uniqueWeaponKillsPrecisionKills': {'basic': {'value': 0.0, 'displayValue': '0%'}}}}]\n"
     ],
     "output_type": "stream"
    }
   ],
   "source": [
    "import bungie_api as bng\n",
    "import requests\n",
    "\n",
    "test_acct = bng.DestinyAccount('Seamusin')\n",
    "\n",
    "test_matches = bng.get_comp_match_ids(test_acct)\n",
    "\n",
    "#print(test_matches)\n",
    "\n",
    "#print(bng.get_destiny_manifest())\n",
    "\n",
    "HEADERS = {\"X-API-Key\": '3ac88e4a357e47089618de29c972fbab'}\n",
    "\n",
    "default_url = \"https://bungie.net/Platform\"\n",
    "\n",
    "game_id = test_matches[0]\n",
    "pgcr_path = \"/Destiny2/Stats/PostGameCarnageReport/\" + game_id\n",
    "r = requests.get(default_url + pgcr_path, headers=HEADERS)\n",
    "pgcr_info = r.json()\n",
    "\n",
    "pgcr_entries = pgcr_info['Response']['entries']\n",
    "\n",
    "player_data_list = []\n",
    "for player in pgcr_entries:\n",
    "    player_data_list.append(player)\n",
    "\n",
    "player_1_info = player_data_list[0]\n",
    "test_weapons = player_1_info['extended']['weapons']\n",
    "\n",
    "print(test_weapons)"
   ]
  },
  {
   "cell_type": "code",
   "execution_count": null,
   "outputs": [],
   "source": [
    "\n"
   ],
   "metadata": {
    "collapsed": false,
    "pycharm": {
     "name": "#%%\n"
    }
   }
  }
 ],
 "metadata": {
  "language_info": {
   "codemirror_mode": {
    "name": "ipython",
    "version": 2
   },
   "file_extension": ".py",
   "mimetype": "text/x-python",
   "name": "python",
   "nbconvert_exporter": "python",
   "pygments_lexer": "ipython2",
   "version": "2.7.6"
  },
  "kernelspec": {
   "name": "python3",
   "language": "python",
   "display_name": "Python 3"
  },
  "pycharm": {
   "stem_cell": {
    "cell_type": "raw",
    "source": [],
    "metadata": {
     "collapsed": false
    }
   }
  }
 },
 "nbformat": 4,
 "nbformat_minor": 0
}